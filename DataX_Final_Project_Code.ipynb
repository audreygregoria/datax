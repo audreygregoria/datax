{
  "cells": [
    {
      "cell_type": "code",
      "execution_count": null,
      "metadata": {
        "id": "gRY4636bUmg2"
      },
      "outputs": [],
      "source": [
        "import numpy as np\n",
        "import matplotlib.pyplot as plt\n",
        "import pandas as pd"
      ]
    },
    {
      "cell_type": "code",
      "execution_count": null,
      "metadata": {
        "id": "C87gc0xQvCcU"
      },
      "outputs": [],
      "source": [
        "df = pd.read_csv('https://raw.githubusercontent.com/audreygregoria/datax/1d271646cc8ac3fa54fb0a7fc5020241906f2bad/data_prototype2.csv')\n",
        "mean, std = df.floorPrice.mean(), df.floorPrice.std()\n",
        "df=df[np.abs((df.floorPrice - mean) <= 2*std)]\n",
        "maxx, minn = np.max(df.floorPrice), np.min(df.floorPrice)\n",
        "s=list(df[\"floorPrice\"])\n",
        "\n",
        "from scipy import stats\n",
        "#df[\"floorPrice\"] = np.abs(stats.zscore(df['floorPrice']))\n",
        "def ou(o):\n",
        "      #o=str(int(o))\n",
        "      #s=str(o)\n",
        "      #ss=str(o[0])+str(\"0\")*(len(s)-1)\n",
        "      return o/1e+4\n",
        "\n",
        "df=df.fillna(df.mean())\n",
        "df['instagram']=df['instagram'].apply(ou)\n",
        "df['twitter']=df['twitter'].apply(ou)\n",
        "df['discord']=df['discord'].apply(ou)\n",
        "df['opensea']=df['opensea'].apply(ou)\n",
        "df['volumeCount']=df['volumeCount'].apply(ou)\n",
        "\n",
        "x_df=df.iloc[:,:-1]\n",
        "y_df=df[\"floorPrice\"]\n",
        "from sklearn.model_selection import train_test_split\n",
        "\n",
        "X_train, X_test, y_train, y_test = train_test_split(x_df, y_df, test_size=0.2)\n",
        "pop=y_train"
      ]
    },
    {
      "cell_type": "code",
      "execution_count": null,
      "metadata": {
        "colab": {
          "base_uri": "https://localhost:8080/"
        },
        "id": "bsBNOx9tKjSR",
        "outputId": "214fea1a-01e6-44fc-dae6-97bda9dd29ec"
      },
      "outputs": [
        {
          "output_type": "execute_result",
          "data": {
            "text/plain": [
              "0.00863951032810568"
            ]
          },
          "metadata": {},
          "execution_count": 3
        }
      ],
      "source": [
        "from sklearn.linear_model import Lasso\n",
        "\n",
        "alpha=0.00005\n",
        "lasso_regr=Lasso(alpha=alpha,max_iter=50000)\n",
        "y_train = np.array((y_train - minn)/(maxx-minn)) #np.array((y_train - mean)/std)\n",
        "y_test = np.array((y_test - minn)/(maxx-minn)) #np.array((y_test - mean)/std) #np.array(stats.zscore(y_test))\n",
        "lasso_regr.fit(X_train, y_train)\n",
        "y_pred=lasso_regr.predict(X_test)\n",
        "a=pd.DataFrame(X_test)\n",
        "b=pd.DataFrame(y_pred)\n",
        "import sklearn\n",
        "sklearn.metrics.mean_squared_error(y_test, y_pred)"
      ]
    },
    {
      "cell_type": "code",
      "execution_count": null,
      "metadata": {
        "colab": {
          "base_uri": "https://localhost:8080/",
          "height": 285
        },
        "id": "EUflkngta4i1",
        "outputId": "5ef6a138-6f13-4ad1-c391-922f913c05be"
      },
      "outputs": [
        {
          "output_type": "execute_result",
          "data": {
            "text/plain": [
              "0.8990890855659428"
            ]
          },
          "metadata": {},
          "execution_count": 4
        },
        {
          "output_type": "display_data",
          "data": {
            "text/plain": [
              "<Figure size 432x288 with 1 Axes>"
            ],
            "image/png": "[encoded data removed]"
          },
          "metadata": {
            "needs_background": "light"
          }
        }
      ],
      "source": [
        "ytest_1 = np.empty(y_test.shape)\n",
        "for i in range(len(y_test)):\n",
        "    ytest_1[i]=y_test[i]*(maxx-minn) + minn # y_test[i]*std+mean\n",
        "\n",
        "\n",
        "ypred_1 = np.empty(y_test.shape)\n",
        "for i in range(len(y_pred)):\n",
        "    #st=pop.std()\n",
        "    #mn=pop.mean()\n",
        "    ypred_1[i]=y_pred[i]*(maxx-minn) + minn #y_pred[i]*std+mean\n",
        "\n",
        "plt.plot(np.arange(y_test.shape[0]), ytest_1, color='g', label='true')\n",
        "plt.plot(np.arange(y_test.shape[0]), ypred_1, color='r', label = 'pred')\n",
        "plt.legend()\n",
        "r=np.corrcoef(ytest_1, ypred_1)\n",
        "r[0,1]"
      ]
    },
    {
      "cell_type": "code",
      "execution_count": null,
      "metadata": {
        "colab": {
          "base_uri": "https://localhost:8080/"
        },
        "id": "zTv4OyPLB34H",
        "outputId": "0629367a-9ef3-468f-9eba-2b036f373fc6"
      },
      "outputs": [
        {
          "output_type": "execute_result",
          "data": {
            "text/plain": [
              "array([ 0.14048711,  0.02964016,  0.04633547,  0.06859337,  0.01296698,\n",
              "        0.02992697,  0.05051734,  0.01553732,  0.27821438,  0.06231795,\n",
              "        0.02826246,  0.04193718, -0.0116574 ,  0.78604791,  0.0585221 ,\n",
              "       -0.00088086,  0.14760907,  0.03319346,  0.03548723,  0.05350445,\n",
              "        0.04162527,  0.03390034,  0.09451298,  0.02742675,  0.05009944,\n",
              "        0.04650682])"
            ]
          },
          "metadata": {},
          "execution_count": 5
        }
      ],
      "source": [
        "import joblib\n",
        "\n",
        "# Save the model as a pickle in a file\n",
        "joblib.dump(lasso_regr, 'model.pkl')\n",
        "\n",
        "# Load the model from the file\n",
        "knn_from_joblib = joblib.load('model.pkl')\n",
        "\n",
        "# Use the loaded model to make predictions\n",
        "knn_from_joblib.predict(X_test)\n"
      ]
    },
    {
      "cell_type": "code",
      "source": [
        "def ou(o):\n",
        "      return o/1e+4"
      ],
      "metadata": {
        "id": "W2mTALcecVfs"
      },
      "execution_count": null,
      "outputs": []
    },
    {
      "cell_type": "code",
      "source": [
        "!pip install anvil-uplink\n",
        "import anvil.server\n",
        "anvil.server.connect('server_57AQBXHXBXQB3SV63LDEGSMA-UP4OJMY33G3H35TG')\n",
        "\n",
        "@anvil.server.callable\n",
        "def predict(instagram, twitter, discord, opensea, volumeCount): \n",
        "    s = [instagram, twitter, discord, opensea, volumeCount]\n",
        "    for i in range(len(s)):\n",
        "      s[i]=ou(s[i])\n",
        "    po=knn_from_joblib.predict(np.array(s).reshape(1, -1))\n",
        "    ans=po*(maxx-minn) + minn\n",
        "    price = ans[0]\n",
        "    return price"
      ],
      "metadata": {
        "colab": {
          "base_uri": "https://localhost:8080/",
          "height": 462
        },
        "id": "kbzKuUxDQJd6",
        "outputId": "8edf34e2-7286-4f93-c129-418fd409509d"
      },
      "execution_count": null,
      "outputs": [
        {
          "output_type": "stream",
          "name": "stdout",
          "text": [
            "Collecting anvil-uplink\n",
            "  Downloading anvil_uplink-0.3.42-py2.py3-none-any.whl (64 kB)\n",
            "\u001b[?25l\r\u001b[K     |█████                           | 10 kB 18.8 MB/s eta 0:00:01\r\u001b[K     |██████████▏                     | 20 kB 13.1 MB/s eta 0:00:01\r\u001b[K     |███████████████▏                | 30 kB 7.5 MB/s eta 0:00:01\r\u001b[K     |████████████████████▎           | 40 kB 6.6 MB/s eta 0:00:01\r\u001b[K     |█████████████████████████▎      | 51 kB 6.6 MB/s eta 0:00:01\r\u001b[K     |██████████████████████████████▍ | 61 kB 6.5 MB/s eta 0:00:01\r\u001b[K     |████████████████████████████████| 64 kB 1.9 MB/s \n",
            "\u001b[?25hRequirement already satisfied: six in /usr/local/lib/python3.7/dist-packages (from anvil-uplink) (1.15.0)\n",
            "Collecting ws4py\n",
            "  Downloading ws4py-0.5.1.tar.gz (51 kB)\n",
            "\u001b[K     |████████████████████████████████| 51 kB 145 kB/s \n",
            "\u001b[?25hRequirement already satisfied: future in /usr/local/lib/python3.7/dist-packages (from anvil-uplink) (0.16.0)\n",
            "Collecting argparse\n",
            "  Downloading argparse-1.4.0-py2.py3-none-any.whl (23 kB)\n",
            "Building wheels for collected packages: ws4py\n",
            "  Building wheel for ws4py (setup.py) ... \u001b[?25l\u001b[?25hdone\n",
            "  Created wheel for ws4py: filename=ws4py-0.5.1-py3-none-any.whl size=45229 sha256=b0729e5b5de23fa3f3010c39d5fa28bbe06df4090f0af649b8d5800da3858f15\n",
            "  Stored in directory: /root/.cache/pip/wheels/29/ea/7d/3410aa0aa0e4402ead9a7a97ab2214804887e0f5c2b76f0c96\n",
            "Successfully built ws4py\n",
            "Installing collected packages: ws4py, argparse, anvil-uplink\n",
            "Successfully installed anvil-uplink-0.3.42 argparse-1.4.0 ws4py-0.5.1\n"
          ]
        },
        {
          "output_type": "display_data",
          "data": {
            "application/vnd.colab-display-data+json": {
              "pip_warning": {
                "packages": [
                  "argparse",
                  "google"
                ]
              }
            }
          },
          "metadata": {}
        },
        {
          "output_type": "stream",
          "name": "stdout",
          "text": [
            "Connecting to wss://anvil.works/uplink\n",
            "Anvil websocket open\n",
            "Connected to \"Published\" as SERVER\n"
          ]
        }
      ]
    },
    {
      "cell_type": "code",
      "source": [
        "predict(163528.0\t,36954.0\t,7675.0\t,3100\t,1600.0)"
      ],
      "metadata": {
        "colab": {
          "base_uri": "https://localhost:8080/"
        },
        "id": "7l5CMgqKSpJF",
        "outputId": "621cb9d5-bb55-428f-b00c-23f83d95a2ee"
      },
      "execution_count": null,
      "outputs": [
        {
          "output_type": "stream",
          "name": "stderr",
          "text": [
            "/usr/local/lib/python3.7/dist-packages/sklearn/base.py:451: UserWarning: X does not have valid feature names, but Lasso was fitted with feature names\n",
            "  \"X does not have valid feature names, but\"\n"
          ]
        },
        {
          "output_type": "execute_result",
          "data": {
            "text/plain": [
              "0.5715433462670337"
            ]
          },
          "metadata": {},
          "execution_count": 8
        }
      ]
    },
    {
      "cell_type": "code",
      "source": [
        "# Only instagram and volumecount increases floor price. \n",
        "# Does not make sense to tell user to sell more nfts(increasing volume count) so they could raise their floor price. Will only be working with instagram followers.\n",
        "coeffs = lasso_regr.coef_\n",
        "coeffs"
      ],
      "metadata": {
        "id": "XqNU5aZySQzy",
        "colab": {
          "base_uri": "https://localhost:8080/"
        },
        "outputId": "672b2331-777e-4a02-afe8-8bc0fc0b834d"
      },
      "execution_count": null,
      "outputs": [
        {
          "output_type": "execute_result",
          "data": {
            "text/plain": [
              "array([-3.25246641e-05, -1.78021276e-03, -8.56624855e-04, -7.64248923e-02,\n",
              "        5.15372014e-02])"
            ]
          },
          "metadata": {},
          "execution_count": 18
        }
      ]
    },
    {
      "cell_type": "code",
      "source": [
        "# Use model to spit out price\n",
        "# If we want a 20% increase -> [predicted price (from model)] * [0.2] = [increase]\n",
        "# [increase] / [0.00501408(instagram coef)] = [number of instagram followers you have to increase to achieve desired floor price]"
      ],
      "metadata": {
        "id": "yGopmHP8DY_6"
      },
      "execution_count": null,
      "outputs": []
    },
    {
      "cell_type": "code",
      "source": [
        "@anvil.server.callable\n",
        "def rec_insta(predicted_price, desired_price):\n",
        "  coeff = np.abs(coeffs[0])\n",
        "  increase = desired_price - predicted_price\n",
        "  num_followers = round(increase / coeff)\n",
        "  return num_followers"
      ],
      "metadata": {
        "id": "yNH_SdxhH0OF"
      },
      "execution_count": null,
      "outputs": []
    },
    {
      "cell_type": "code",
      "source": [
        "rec_insta(7, 13)"
      ],
      "metadata": {
        "colab": {
          "base_uri": "https://localhost:8080/"
        },
        "id": "nJPE1PD-IZr3",
        "outputId": "012abf2a-cc65-456d-f122-20848f333b46"
      },
      "execution_count": null,
      "outputs": [
        {
          "output_type": "execute_result",
          "data": {
            "text/plain": [
              "184475"
            ]
          },
          "metadata": {},
          "execution_count": 28
        }
      ]
    },
    {
      "cell_type": "code",
      "source": [
        "@anvil.server.callable\n",
        "def rec_twitter(predicted_price, desired_price): \n",
        "  coeff = np.abs(coeffs[1])\n",
        "  increase = desired_price - predicted_price\n",
        "  num_followers = round(increase / coeff)\n",
        "  return num_followers "
      ],
      "metadata": {
        "id": "EfNugMsfIdVr"
      },
      "execution_count": null,
      "outputs": []
    },
    {
      "cell_type": "code",
      "source": [
        "@anvil.server.callable\n",
        "def rec_discord(predicted_price, desired_price): \n",
        "  coeff = np.abs(coeffs[2])\n",
        "  increase = desired_price - predicted_price\n",
        "  num_followers = round(increase / coeff)\n",
        "  return num_followers "
      ],
      "metadata": {
        "id": "1XbzOkYYBVbf"
      },
      "execution_count": null,
      "outputs": []
    },
    {
      "cell_type": "code",
      "source": [
        "@anvil.server.callable\n",
        "def rec_opensea(predicted_price, desired_price): \n",
        "  coeff = np.abs(coeffs[3])\n",
        "  increase = desired_price - predicted_price\n",
        "  num_followers = round(increase / coeff)\n",
        "  return num_followers "
      ],
      "metadata": {
        "id": "8fbCQPv-BlYC"
      },
      "execution_count": null,
      "outputs": []
    },
    {
      "cell_type": "code",
      "source": [
        ""
      ],
      "metadata": {
        "id": "v1Z8TW-RBteR"
      },
      "execution_count": null,
      "outputs": []
    }
  ],
  "metadata": {
    "colab": {
      "collapsed_sections": [],
      "name": "DataX_Final_Project_Code.ipynb",
      "provenance": []
    },
    "kernelspec": {
      "display_name": "Python 3",
      "language": "python",
      "name": "python3"
    },
    "language_info": {
      "codemirror_mode": {
        "name": "ipython",
        "version": 3
      },
      "file_extension": ".py",
      "mimetype": "text/x-python",
      "name": "python",
      "nbconvert_exporter": "python",
      "pygments_lexer": "ipython3",
      "version": "3.8.8"
    }
  },
  "nbformat": 4,
  "nbformat_minor": 0
}