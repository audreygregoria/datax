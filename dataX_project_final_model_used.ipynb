{
 "cells": [
  {
   "cell_type": "code",
   "execution_count": 109,
   "metadata": {},
   "outputs": [
    {
     "name": "stdout",
     "output_type": "stream",
     "text": [
      "Requirement already satisfied: anvil-uplink in /usr/local/lib/python3.6/site-packages (0.3.42)\n",
      "Requirement already satisfied: future in /usr/local/lib/python3.6/site-packages (from anvil-uplink) (0.18.2)\n",
      "Requirement already satisfied: ws4py in /usr/local/lib/python3.6/site-packages (from anvil-uplink) (0.5.1)\n",
      "Collecting argparse\n",
      "  Using cached argparse-1.4.0-py2.py3-none-any.whl (23 kB)\n",
      "Requirement already satisfied: six in /usr/local/lib/python3.6/site-packages (from anvil-uplink) (1.16.0)\n",
      "Installing collected packages: argparse\n",
      "Successfully installed argparse-1.4.0\n",
      "\u001b[33mWARNING: You are using pip version 21.0.1; however, version 21.3.1 is available.\n",
      "You should consider upgrading via the '/usr/local/bin/python -m pip install --upgrade pip' command.\u001b[0m\n"
     ]
    }
   ],
   "source": [
    "!pip install anvil-uplink"
   ]
  },
  {
   "cell_type": "code",
   "execution_count": 110,
   "metadata": {
    "colab": {
     "base_uri": "https://localhost:8080/",
     "height": 463
    },
    "id": "kbzKuUxDQJd6",
    "outputId": "114bf203-72c8-4f85-d0c3-e992d2f6ee41"
   },
   "outputs": [],
   "source": [
    "import anvil.server\n",
    "anvil.server.connect('server_57AQBXHXBXQB3SV63LDEGSMA-UP4OJMY33G3H35TG')"
   ]
  },
  {
   "cell_type": "code",
   "execution_count": 111,
   "metadata": {},
   "outputs": [],
   "source": [
    "import joblib\n",
    "import pickle\n",
    "import json\n",
    "import requests\n",
    "import gzip\n",
    "import numpy as np\n",
    "import pandas as pd"
   ]
  },
  {
   "cell_type": "code",
   "execution_count": 112,
   "metadata": {},
   "outputs": [
    {
     "name": "stderr",
     "output_type": "stream",
     "text": [
      "/usr/local/lib/python3.6/site-packages/sklearn/base.py:315: UserWarning: Trying to unpickle estimator Lasso from version 1.0.2 when using version 0.24.2. This might lead to breaking code or invalid results. Use at your own risk.\n",
      "  UserWarning)\n"
     ]
    }
   ],
   "source": [
    "knn_from_joblib = joblib.load('model.pkl')"
   ]
  },
  {
   "cell_type": "code",
   "execution_count": 118,
   "metadata": {},
   "outputs": [],
   "source": [
    "def ou(o):\n",
    "      return o/1e+4\n",
    "\n",
    "@anvil.server.callable\n",
    "def output(instagram, twitter, discord, opensea, volumeCount):\n",
    "  s = [instagram, twitter, discord, opensea, volumeCount]\n",
    "  if(sum(s)<100): \n",
    "    return 0.1\n",
    "\n",
    "  for i in range(len(s)):\n",
    "    s[i]=ou(s[i])\n",
    "\n",
    "  po=knn_from_joblib.predict(np.array(s).reshape(1, -1))\n",
    "  ans=po*(19.25)\n",
    "  final_output = ans[0]\n",
    "  return np.abs(final_output)"
   ]
  },
  {
   "cell_type": "code",
   "execution_count": 119,
   "metadata": {},
   "outputs": [
    {
     "data": {
      "text/plain": [
       "0.5528412413729415"
      ]
     },
     "execution_count": 119,
     "metadata": {},
     "output_type": "execute_result"
    }
   ],
   "source": [
    "output(163528.0\t,36954.0\t,7675.0\t,3100\t,1600.0)"
   ]
  },
  {
   "cell_type": "code",
   "execution_count": 120,
   "metadata": {
    "colab": {
     "base_uri": "https://localhost:8080/"
    },
    "id": "XqNU5aZySQzy",
    "outputId": "7f90487e-6ffb-4650-8a57-c7e188a34677"
   },
   "outputs": [
    {
     "data": {
      "text/plain": [
       "array([-4.12891932e-05, -1.15745661e-03, -1.83947076e-03, -7.72601535e-02,\n",
       "        5.09552352e-02])"
      ]
     },
     "execution_count": 120,
     "metadata": {},
     "output_type": "execute_result"
    }
   ],
   "source": [
    "# Only instagram and volumecount increases floor price. \n",
    "# Does not make sense to tell user to sell more nfts(increasing volume count) so they could raise their floor price. Will only be working with instagram followers.\n",
    "coeffs = knn_from_joblib.coef_\n",
    "coeffs"
   ]
  },
  {
   "cell_type": "code",
   "execution_count": 121,
   "metadata": {
    "id": "yGopmHP8DY_6"
   },
   "outputs": [],
   "source": [
    "# Use model to spit out price\n",
    "# If we want a 20% increase -> [predicted price (from model)] * [0.2] = [increase]\n",
    "# [increase] / [0.00501408(instagram coef)] = [number of instagram followers you have to increase to achieve desired floor price]"
   ]
  },
  {
   "cell_type": "code",
   "execution_count": 122,
   "metadata": {
    "id": "yNH_SdxhH0OF"
   },
   "outputs": [],
   "source": [
    "@anvil.server.callable\n",
    "def rec_insta(predicted_price, desired_price):\n",
    "  coeff = np.abs(coeffs[0])\n",
    "  increase = desired_price - predicted_price\n",
    "  num_followers = round(increase / coeff)\n",
    "  return num_followers"
   ]
  },
  {
   "cell_type": "code",
   "execution_count": 123,
   "metadata": {
    "colab": {
     "base_uri": "https://localhost:8080/"
    },
    "id": "nJPE1PD-IZr3",
    "outputId": "19868205-934a-460c-be66-bf9dbc7241d7"
   },
   "outputs": [
    {
     "data": {
      "text/plain": [
       "145316"
      ]
     },
     "execution_count": 123,
     "metadata": {},
     "output_type": "execute_result"
    }
   ],
   "source": [
    "rec_insta(7, 13)"
   ]
  },
  {
   "cell_type": "code",
   "execution_count": 124,
   "metadata": {
    "id": "EfNugMsfIdVr"
   },
   "outputs": [],
   "source": [
    "@anvil.server.callable\n",
    "def rec_twitter(predicted_price, desired_price): \n",
    "  coeff = np.abs(coeffs[1])\n",
    "  increase = desired_price - predicted_price\n",
    "  num_followers = round(increase / coeff)\n",
    "  return num_followers "
   ]
  },
  {
   "cell_type": "code",
   "execution_count": 125,
   "metadata": {},
   "outputs": [],
   "source": [
    "@anvil.server.callable\n",
    "def rec_discord(predicted_price, desired_price): \n",
    "  coeff = np.abs(coeffs[2])\n",
    "  increase = desired_price - predicted_price\n",
    "  num_followers = round(increase / coeff)\n",
    "  return num_followers "
   ]
  },
  {
   "cell_type": "code",
   "execution_count": 126,
   "metadata": {},
   "outputs": [],
   "source": [
    "@anvil.server.callable\n",
    "def rec_opensea(predicted_price, desired_price): \n",
    "  coeff = np.abs(coeffs[3])\n",
    "  increase = desired_price - predicted_price\n",
    "  num_followers = round(increase / coeff)\n",
    "  return num_followers "
   ]
  },
  {
   "cell_type": "code",
   "execution_count": null,
   "metadata": {},
   "outputs": [],
   "source": []
  },
  {
   "cell_type": "code",
   "execution_count": null,
   "metadata": {},
   "outputs": [],
   "source": []
  }
 ],
 "metadata": {
  "colab": {
   "collapsed_sections": [],
   "name": "dataX_project_final.ipynb",
   "provenance": []
  },
  "instance_type": "ml.t3.medium",
  "kernelspec": {
   "display_name": "Python 3 (Base Python)",
   "language": "python",
   "name": "python3__SAGEMAKER_INTERNAL__arn:aws:sagemaker:us-east-1:081325390199:image/python-3.6"
  },
  "language_info": {
   "codemirror_mode": {
    "name": "ipython",
    "version": 3
   },
   "file_extension": ".py",
   "mimetype": "text/x-python",
   "name": "python",
   "nbconvert_exporter": "python",
   "pygments_lexer": "ipython3",
   "version": "3.6.13"
  }
 },
 "nbformat": 4,
 "nbformat_minor": 4
}
